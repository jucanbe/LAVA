{
 "cells": [
  {
   "cell_type": "code",
   "execution_count": 2,
   "id": "abd6c491-7b25-44c6-8aba-f37191cb269d",
   "metadata": {},
   "outputs": [
    {
     "name": "stdout",
     "output_type": "stream",
     "text": [
      "Requirement already satisfied: owlready2 in c:\\users\\jcanodeb\\anaconda3\\lib\\site-packages (0.47)\n",
      "Requirement already satisfied: rdflib in c:\\users\\jcanodeb\\anaconda3\\lib\\site-packages (7.1.4)\n",
      "Requirement already satisfied: pyparsing<4,>=2.1.0 in c:\\users\\jcanodeb\\anaconda3\\lib\\site-packages (from rdflib) (3.1.2)\n",
      "Requirement already satisfied: OpenAI in c:\\users\\jcanodeb\\anaconda3\\lib\\site-packages (1.70.0)\n",
      "Requirement already satisfied: anyio<5,>=3.5.0 in c:\\users\\jcanodeb\\anaconda3\\lib\\site-packages (from OpenAI) (4.2.0)\n",
      "Requirement already satisfied: distro<2,>=1.7.0 in c:\\users\\jcanodeb\\anaconda3\\lib\\site-packages (from OpenAI) (1.9.0)\n",
      "Requirement already satisfied: httpx<1,>=0.23.0 in c:\\users\\jcanodeb\\anaconda3\\lib\\site-packages (from OpenAI) (0.27.0)\n",
      "Requirement already satisfied: jiter<1,>=0.4.0 in c:\\users\\jcanodeb\\anaconda3\\lib\\site-packages (from OpenAI) (0.9.0)\n",
      "Requirement already satisfied: pydantic<3,>=1.9.0 in c:\\users\\jcanodeb\\anaconda3\\lib\\site-packages (from OpenAI) (2.8.2)\n",
      "Requirement already satisfied: sniffio in c:\\users\\jcanodeb\\anaconda3\\lib\\site-packages (from OpenAI) (1.3.0)\n",
      "Requirement already satisfied: tqdm>4 in c:\\users\\jcanodeb\\anaconda3\\lib\\site-packages (from OpenAI) (4.66.5)\n",
      "Requirement already satisfied: typing-extensions<5,>=4.11 in c:\\users\\jcanodeb\\anaconda3\\lib\\site-packages (from OpenAI) (4.11.0)\n",
      "Requirement already satisfied: idna>=2.8 in c:\\users\\jcanodeb\\anaconda3\\lib\\site-packages (from anyio<5,>=3.5.0->OpenAI) (3.7)\n",
      "Requirement already satisfied: certifi in c:\\users\\jcanodeb\\anaconda3\\lib\\site-packages (from httpx<1,>=0.23.0->OpenAI) (2025.1.31)\n",
      "Requirement already satisfied: httpcore==1.* in c:\\users\\jcanodeb\\anaconda3\\lib\\site-packages (from httpx<1,>=0.23.0->OpenAI) (1.0.2)\n",
      "Requirement already satisfied: h11<0.15,>=0.13 in c:\\users\\jcanodeb\\anaconda3\\lib\\site-packages (from httpcore==1.*->httpx<1,>=0.23.0->OpenAI) (0.14.0)\n",
      "Requirement already satisfied: annotated-types>=0.4.0 in c:\\users\\jcanodeb\\anaconda3\\lib\\site-packages (from pydantic<3,>=1.9.0->OpenAI) (0.6.0)\n",
      "Requirement already satisfied: pydantic-core==2.20.1 in c:\\users\\jcanodeb\\anaconda3\\lib\\site-packages (from pydantic<3,>=1.9.0->OpenAI) (2.20.1)\n",
      "Requirement already satisfied: colorama in c:\\users\\jcanodeb\\anaconda3\\lib\\site-packages (from tqdm>4->OpenAI) (0.4.6)\n"
     ]
    }
   ],
   "source": [
    "!pip install owlready2\n",
    "!pip install rdflib\n",
    "!pip install OpenAI"
   ]
  },
  {
   "cell_type": "code",
   "execution_count": 4,
   "id": "08e65b0a-7626-4fd4-85a3-3cb894c284a1",
   "metadata": {},
   "outputs": [],
   "source": [
    "from rdflib import Graph\n",
    "from openai import OpenAI\n",
    "from owlready2 import get_ontology, onto_path\n",
    "import io"
   ]
  },
  {
   "cell_type": "code",
   "execution_count": 3,
   "id": "8e141103-2f8c-40e8-80cc-1982e04b8de9",
   "metadata": {},
   "outputs": [],
   "source": [
    "system_prompt = \"\"\"\n",
    "You are an expert in ontology engineering. Generate an OWL ontology based on the following domain description:\n",
    "Define classes, data properties, and object properties.\n",
    "Include domain and range for each property.\n",
    "Provide the output in OWL (XML) format.\"\"\""
   ]
  },
  {
   "cell_type": "markdown",
   "id": "6fe0fbaa-3681-4fcb-83e5-79d6ca3915c1",
   "metadata": {},
   "source": [
    "client = OpenAI(base_url=\"http://localhost:1234/v1\", api_key=\"lm-studio\")\n",
    "\n",
    "user_prompt = \"\"\"A healthcare domain where:\n",
    "\n",
    "Patients have a name, age, and gender.\n",
    "Patients can have conditions and are treated by doctors.\n",
    "Conditions have a name.\n",
    "Doctors have a name and specialty.\n",
    "\"\"\"\n",
    "\n",
    "completion = client.chat.completions.create(\n",
    "model=\"model-identifier\",\n",
    "messages=[\n",
    "    {\"role\": \"system\", \"content\": system_prompt},\n",
    "    {\"role\": \"user\", \"content\": user_prompt}\n",
    "    ],\n",
    "    temperature=0.7,\n",
    ")\n",
    "\n",
    "content = completion.choices[0].message.content\n",
    "clean_content = content.split(\"</think>\\n\\n\")[-1] \n",
    "\n",
    "print(clean_content)"
   ]
  },
  {
   "cell_type": "code",
   "execution_count": 16,
   "id": "85e7a663-75fa-4cb1-8770-8c3af51e72e3",
   "metadata": {},
   "outputs": [
    {
     "name": "stdout",
     "output_type": "stream",
     "text": [
      "Ontology loaded successfully: get_ontology(\"http://example.org/healthcare#\")\n",
      "\n",
      "Detected classes:\n",
      "- Patient\n",
      "- Condition\n",
      "- Doctor\n",
      "\n",
      "Detected properties:\n",
      "- patientName\n",
      "- age\n",
      "- gender\n",
      "- conditionName\n",
      "- specialty\n",
      "- hasCondition\n",
      "- treats\n",
      "Classes:\n",
      "ontology.Patient\n",
      "ontology.Condition\n",
      "ontology.Doctor\n",
      "\n",
      "Properties:\n",
      "ontology.patientName: Domain=[ontology.Patient], Range=[<class 'str'>]\n",
      "ontology.age: Domain=[ontology.Patient], Range=[<class 'int'>]\n",
      "ontology.gender: Domain=[ontology.Patient], Range=[<class 'str'>]\n",
      "ontology.conditionName: Domain=[ontology.Condition], Range=[<class 'str'>]\n",
      "ontology.specialty: Domain=[ontology.Doctor], Range=[<class 'str'>]\n",
      "ontology.hasCondition: Domain=[ontology.Patient], Range=[ontology.Condition]\n",
      "ontology.treats: Domain=[ontology.Doctor], Range=[ontology.Patient]\n"
     ]
    }
   ],
   "source": [
    "ontology = get_ontology(\"ontology.owl\").load()\n",
    "\n",
    "if ontology is None:\n",
    "    print(\"Error: The ontology was not loaded correctly.\")\n",
    "else:\n",
    "    print(\"Ontology loaded successfully:\", ontology)\n",
    "\n",
    "print(\"\\nDetected classes:\")\n",
    "for cls in ontology.classes():\n",
    "    print(f\"- {cls.name}\")\n",
    "if not list(ontology.classes()):\n",
    "    print(\"No classes detected in the ontology.\")\n",
    "\n",
    "print(\"\\nDetected properties:\")\n",
    "for prop in ontology.properties():\n",
    "    print(f\"- {prop.name}\")\n",
    "if not list(ontology.properties()):\n",
    "    print(\"No properties detected in the ontology.\")\n",
    "\n",
    "# Print ontology structure\n",
    "print(\"Classes:\")\n",
    "for cls in ontology.classes():\n",
    "    print(cls)\n",
    "\n",
    "print(\"\\nProperties:\")\n",
    "for prop in ontology.properties():\n",
    "    print(f\"{prop}: Domain={prop.domain}, Range={prop.range}\")\n"
   ]
  },
  {
   "cell_type": "code",
   "execution_count": 18,
   "id": "aae4b3bd-629e-47a2-935e-f7fe3ae79867",
   "metadata": {},
   "outputs": [
    {
     "name": "stdout",
     "output_type": "stream",
     "text": [
      "\n",
      "Turtle serialization length: 3309\n",
      "@prefix owl: <http://www.w3.org/2002/07/owl#> .\n",
      "@prefix rdfs: <http://www.w3.org/2000/01/rdf-schema#> .\n",
      "@prefix xsd: <http://www.w3.org/2001/XMLSchema#> .\n",
      "\n",
      "<./ontology.owl> a owl:Ontology .\n",
      "\n",
      "<http://anonymous> a owl:Ontology .\n",
      "\n",
      "<http://example.org/healthcare> a owl:Ontology,\n",
      "        owl:Ontology ;\n",
      "    rdfs:comment \"A healthcare domain ontology defining patients, conditions, and doctors.\"^^xsd:string,\n",
      "        \"A healthcare domain ontology defining patients, conditions, and doctors.\"^^xsd:string .\n",
      "\n",
      "<http://example.org/healthcare#age> a owl:DatatypeProperty,\n",
      "        owl:DatatypeProperty ;\n",
      "    rdfs:comment \"Age of the patient\"^^xsd:string,\n",
      "        \"Age of the patient\"^^xsd:string ;\n",
      "    rdfs:domain <http://example.org/healthcare#Patient>,\n",
      "        <http://example.org/healthcare#Patient> ;\n",
      "    rdfs:range xsd:integer,\n",
      "        xsd:integer .\n",
      "\n",
      "<http://example.org/healthcare#conditionName> a owl:DatatypeProperty,\n",
      "        owl:DatatypeProperty ;\n",
      "    rdfs:comment \"Name of the condition\"^^xsd:string,\n",
      "\n"
     ]
    }
   ],
   "source": [
    "ontology_uri = \"http://example.org/ontology.owl\"\n",
    "onto_path.append(\".\")\n",
    "ontology = get_ontology(ontology_uri).load()\n",
    "graph = ontology.world.as_rdflib_graph()\n",
    "\n",
    "# Serialise to Turtle\n",
    "ontology_buffer = io.BytesIO()\n",
    "graph.serialize(destination=ontology_buffer, format=\"turtle\", base=None)\n",
    "ontology_scheme = ontology_buffer.getvalue().decode(\"utf-8\")\n",
    "\n",
    "print(f\"\\nTurtle serialization length: {len(ontology_scheme)}\")\n",
    "print(ontology_scheme[:1000]) "
   ]
  },
  {
   "cell_type": "code",
   "execution_count": 26,
   "id": "313c0d86-5063-4068-8adc-4638bf670660",
   "metadata": {},
   "outputs": [
    {
     "name": "stdout",
     "output_type": "stream",
     "text": [
      "Here is the RDF representation based on the given text:\n",
      "\n",
      "```turtle\n",
      "_:patient1 a <http://example.org/healthcare#Patient>;\n",
      "    patientName \"John Doe\";\n",
      "    age <http://example.org/healthcare#age> 45;\n",
      "    hasCondition <http://example.org/healthcare#diabetes>.\n",
      "\n",
      "<http://example.org/healthcare#diabetes> a rdfs:Resource;\n",
      "    rdfs:label \"Diabetes\"^^xsd:string.\n",
      "\n",
      "_:doctor1 a <http://example.org/healthcare#Doctor>;\n",
      "    hasName \"Dr. Smith\";\n",
      "    <http://example.org/healthcare#specialty> \"General Practice\".\n",
      "```\n",
      "\n",
      "This output includes all the necessary triples based on the provided text, adhering to the defined ontology.\n"
     ]
    }
   ],
   "source": [
    "# Function to generate RDF triples using LLM\n",
    "text_input= \"Patient John Doe, aged 45, was diagnosed with diabetes and treated by Dr. Smith.\"\n",
    "client = OpenAI(base_url=\"http://localhost:1234/v1\", api_key=\"lm-studio\")\n",
    "\n",
    "completion = client.chat.completions.create(\n",
    "    model=\"model-identifier\",\n",
    "    messages=[\n",
    "    {\"role\": \"system\", \"content\": \"Extract RDF triples from the following text in Turtle format, adhering to the ontology: - Patient: patientName, age, gender, hasCondition. - Doctor: hasName, specialty. - Condition: conditionName. Ontology:\" + ontology_scheme},\n",
    "    {\"role\": \"user\", \"content\": \"Text: \" + text_input + \". Generate RDF triples in Turtle format.\"}\n",
    "    ],\n",
    "    temperature=0.7,\n",
    ")\n",
    "\n",
    "content = completion.choices[0].message.content\n",
    "clean_content = content.split(\"</think>\\n\\n\")[-1] \n",
    "\n",
    "print(clean_content)"
   ]
  },
  {
   "cell_type": "code",
   "execution_count": null,
   "id": "def88e1b-1acc-4dc4-916b-0740983a0b0e",
   "metadata": {},
   "outputs": [],
   "source": [
    "def validate_rdf(rdf_data, ontology):\n",
    "    g = Graph()\n",
    "    g.parse(data=rdf_data, format=\"turtle\")\n",
    "    errors = []\n",
    "    for s, p, o in g:\n",
    "        prop_name = p.split(\"#\")[-1]\n",
    "        ontology_prop = getattr(ontology, prop_name, None)\n",
    "        \n",
    "        if not ontology_prop:\n",
    "            errors.append(f\"Property ‘{prop_name}’ not found in ontology.\")\n",
    "        elif isinstance(o, str) and xsd:string not in ontology_prop.range:\n",
    "            errors.append(f\"Range Error: {p} expects {ontology_prop.range}, but found a string.\")\n",
    "    return errors\n"
   ]
  },
  {
   "cell_type": "code",
   "execution_count": null,
   "id": "342071d2-273c-4385-b124-b0d57cf43b2f",
   "metadata": {},
   "outputs": [],
   "source": [
    "def refine_rdf(rdf_data, feedback):\n",
    "    refinement_prompt = f\"\"\"\n",
    "    The following RDF output has errors:\n",
    "    {rdf_data}\n",
    "    Errors: {feedback}\n",
    "    Refine the RDF triples to fix these issues while adhering to the ontology schema.\n",
    "    \"\"\"\n",
    "    client = OpenAI(base_url=\"http://localhost:1234/v1\", api_key=\"lm-studio\")\n",
    "\n",
    "    completion = client.chat.completions.create(\n",
    "        model=\"model-identifier\",\n",
    "        messages=[\n",
    "        {\"role\": \"system\", \"content\": system_prompt},\n",
    "        {\"role\": \"user\", \"content\": \"Text: \" + refinement_prompt}\n",
    "        ],\n",
    "        temperature=0.7,\n",
    "    )\n",
    "\n",
    "    return response.content"
   ]
  }
 ],
 "metadata": {
  "kernelspec": {
   "display_name": "Python [conda env:base] *",
   "language": "python",
   "name": "conda-base-py"
  },
  "language_info": {
   "codemirror_mode": {
    "name": "ipython",
    "version": 3
   },
   "file_extension": ".py",
   "mimetype": "text/x-python",
   "name": "python",
   "nbconvert_exporter": "python",
   "pygments_lexer": "ipython3",
   "version": "3.12.7"
  }
 },
 "nbformat": 4,
 "nbformat_minor": 5
}
